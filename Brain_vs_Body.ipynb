{
  "nbformat": 4,
  "nbformat_minor": 0,
  "metadata": {
    "colab": {
      "provenance": [],
      "collapsed_sections": [],
      "authorship_tag": "ABX9TyPyDQCl8rANTqr7VzBHhZAb",
      "include_colab_link": true
    },
    "kernelspec": {
      "name": "python3",
      "display_name": "Python 3"
    },
    "language_info": {
      "name": "python"
    }
  },
  "cells": [
    {
      "cell_type": "markdown",
      "metadata": {
        "id": "view-in-github",
        "colab_type": "text"
      },
      "source": [
        "<a href=\"https://colab.research.google.com/github/koushikac/Data_science-Assignments/blob/main/Brain_vs_Body.ipynb\" target=\"_parent\"><img src=\"https://colab.research.google.com/assets/colab-badge.svg\" alt=\"Open In Colab\"/></a>"
      ]
    },
    {
      "cell_type": "code",
      "execution_count": 25,
      "metadata": {
        "id": "sJQfoZSUFhqO",
        "colab": {
          "base_uri": "https://localhost:8080/",
          "height": 206
        },
        "outputId": "0811a0b4-2638-4946-cad5-61fddb76bbb9"
      },
      "outputs": [
        {
          "output_type": "execute_result",
          "data": {
            "text/plain": [
              "    Brain    Body\n",
              "0    3.385   44.5\n",
              "1    0.480   15.5\n",
              "2    1.350    8.1\n",
              "3  465.000  423.0\n",
              "4   36.330  119.5"
            ],
            "text/html": [
              "\n",
              "  <div id=\"df-419cf80c-305c-453c-ade5-2ca301d1d9d4\">\n",
              "    <div class=\"colab-df-container\">\n",
              "      <div>\n",
              "<style scoped>\n",
              "    .dataframe tbody tr th:only-of-type {\n",
              "        vertical-align: middle;\n",
              "    }\n",
              "\n",
              "    .dataframe tbody tr th {\n",
              "        vertical-align: top;\n",
              "    }\n",
              "\n",
              "    .dataframe thead th {\n",
              "        text-align: right;\n",
              "    }\n",
              "</style>\n",
              "<table border=\"1\" class=\"dataframe\">\n",
              "  <thead>\n",
              "    <tr style=\"text-align: right;\">\n",
              "      <th></th>\n",
              "      <th>Brain</th>\n",
              "      <th>Body</th>\n",
              "    </tr>\n",
              "  </thead>\n",
              "  <tbody>\n",
              "    <tr>\n",
              "      <th>0</th>\n",
              "      <td>3.385</td>\n",
              "      <td>44.5</td>\n",
              "    </tr>\n",
              "    <tr>\n",
              "      <th>1</th>\n",
              "      <td>0.480</td>\n",
              "      <td>15.5</td>\n",
              "    </tr>\n",
              "    <tr>\n",
              "      <th>2</th>\n",
              "      <td>1.350</td>\n",
              "      <td>8.1</td>\n",
              "    </tr>\n",
              "    <tr>\n",
              "      <th>3</th>\n",
              "      <td>465.000</td>\n",
              "      <td>423.0</td>\n",
              "    </tr>\n",
              "    <tr>\n",
              "      <th>4</th>\n",
              "      <td>36.330</td>\n",
              "      <td>119.5</td>\n",
              "    </tr>\n",
              "  </tbody>\n",
              "</table>\n",
              "</div>\n",
              "      <button class=\"colab-df-convert\" onclick=\"convertToInteractive('df-419cf80c-305c-453c-ade5-2ca301d1d9d4')\"\n",
              "              title=\"Convert this dataframe to an interactive table.\"\n",
              "              style=\"display:none;\">\n",
              "        \n",
              "  <svg xmlns=\"http://www.w3.org/2000/svg\" height=\"24px\"viewBox=\"0 0 24 24\"\n",
              "       width=\"24px\">\n",
              "    <path d=\"M0 0h24v24H0V0z\" fill=\"none\"/>\n",
              "    <path d=\"M18.56 5.44l.94 2.06.94-2.06 2.06-.94-2.06-.94-.94-2.06-.94 2.06-2.06.94zm-11 1L8.5 8.5l.94-2.06 2.06-.94-2.06-.94L8.5 2.5l-.94 2.06-2.06.94zm10 10l.94 2.06.94-2.06 2.06-.94-2.06-.94-.94-2.06-.94 2.06-2.06.94z\"/><path d=\"M17.41 7.96l-1.37-1.37c-.4-.4-.92-.59-1.43-.59-.52 0-1.04.2-1.43.59L10.3 9.45l-7.72 7.72c-.78.78-.78 2.05 0 2.83L4 21.41c.39.39.9.59 1.41.59.51 0 1.02-.2 1.41-.59l7.78-7.78 2.81-2.81c.8-.78.8-2.07 0-2.86zM5.41 20L4 18.59l7.72-7.72 1.47 1.35L5.41 20z\"/>\n",
              "  </svg>\n",
              "      </button>\n",
              "      \n",
              "  <style>\n",
              "    .colab-df-container {\n",
              "      display:flex;\n",
              "      flex-wrap:wrap;\n",
              "      gap: 12px;\n",
              "    }\n",
              "\n",
              "    .colab-df-convert {\n",
              "      background-color: #E8F0FE;\n",
              "      border: none;\n",
              "      border-radius: 50%;\n",
              "      cursor: pointer;\n",
              "      display: none;\n",
              "      fill: #1967D2;\n",
              "      height: 32px;\n",
              "      padding: 0 0 0 0;\n",
              "      width: 32px;\n",
              "    }\n",
              "\n",
              "    .colab-df-convert:hover {\n",
              "      background-color: #E2EBFA;\n",
              "      box-shadow: 0px 1px 2px rgba(60, 64, 67, 0.3), 0px 1px 3px 1px rgba(60, 64, 67, 0.15);\n",
              "      fill: #174EA6;\n",
              "    }\n",
              "\n",
              "    [theme=dark] .colab-df-convert {\n",
              "      background-color: #3B4455;\n",
              "      fill: #D2E3FC;\n",
              "    }\n",
              "\n",
              "    [theme=dark] .colab-df-convert:hover {\n",
              "      background-color: #434B5C;\n",
              "      box-shadow: 0px 1px 3px 1px rgba(0, 0, 0, 0.15);\n",
              "      filter: drop-shadow(0px 1px 2px rgba(0, 0, 0, 0.3));\n",
              "      fill: #FFFFFF;\n",
              "    }\n",
              "  </style>\n",
              "\n",
              "      <script>\n",
              "        const buttonEl =\n",
              "          document.querySelector('#df-419cf80c-305c-453c-ade5-2ca301d1d9d4 button.colab-df-convert');\n",
              "        buttonEl.style.display =\n",
              "          google.colab.kernel.accessAllowed ? 'block' : 'none';\n",
              "\n",
              "        async function convertToInteractive(key) {\n",
              "          const element = document.querySelector('#df-419cf80c-305c-453c-ade5-2ca301d1d9d4');\n",
              "          const dataTable =\n",
              "            await google.colab.kernel.invokeFunction('convertToInteractive',\n",
              "                                                     [key], {});\n",
              "          if (!dataTable) return;\n",
              "\n",
              "          const docLinkHtml = 'Like what you see? Visit the ' +\n",
              "            '<a target=\"_blank\" href=https://colab.research.google.com/notebooks/data_table.ipynb>data table notebook</a>'\n",
              "            + ' to learn more about interactive tables.';\n",
              "          element.innerHTML = '';\n",
              "          dataTable['output_type'] = 'display_data';\n",
              "          await google.colab.output.renderOutput(dataTable, element);\n",
              "          const docLink = document.createElement('div');\n",
              "          docLink.innerHTML = docLinkHtml;\n",
              "          element.appendChild(docLink);\n",
              "        }\n",
              "      </script>\n",
              "    </div>\n",
              "  </div>\n",
              "  "
            ]
          },
          "metadata": {},
          "execution_count": 25
        }
      ],
      "source": [
        "import pandas as pd\n",
        "import matplotlib.pyplot as plt\n",
        "import numpy as np\n",
        "from sklearn import linear_model\n",
        "df = pd.read_csv(\"/content/assignment_4.csv\")\n",
        "df.head()"
      ]
    },
    {
      "cell_type": "code",
      "source": [
        "df.shape"
      ],
      "metadata": {
        "colab": {
          "base_uri": "https://localhost:8080/"
        },
        "id": "w2-toBrmGhcc",
        "outputId": "e482595d-dcc0-4ed8-ff56-fe8473056de3"
      },
      "execution_count": 26,
      "outputs": [
        {
          "output_type": "execute_result",
          "data": {
            "text/plain": [
              "(62, 2)"
            ]
          },
          "metadata": {},
          "execution_count": 26
        }
      ]
    },
    {
      "cell_type": "code",
      "source": [
        "print(df.columns.tolist())\n",
        "['Brain', 'Body ']\n",
        "\n",
        "df.columns = df.columns.str.rstrip() \n",
        "df.columns = df.columns.str.strip() "
      ],
      "metadata": {
        "colab": {
          "base_uri": "https://localhost:8080/"
        },
        "id": "cBCwN_V3IRdA",
        "outputId": "aeab27ef-5f7d-4cf5-8593-f069f64f5d87"
      },
      "execution_count": 27,
      "outputs": [
        {
          "output_type": "stream",
          "name": "stdout",
          "text": [
            "['Brain ', 'Body']\n"
          ]
        }
      ]
    },
    {
      "cell_type": "code",
      "source": [
        "print(df.Brain.shape)\n",
        "print(df.Brain.values)\n",
        "print(df.Brain.unique())\n",
        "print(df.Brain.dtypes)\n",
        "print(df.Brain.isnull().sum())\n",
        "df=df.drop_duplicates(subset='Brain')"
      ],
      "metadata": {
        "colab": {
          "base_uri": "https://localhost:8080/"
        },
        "id": "Zy_OkkryHyWw",
        "outputId": "725b8ce7-d374-461f-ebff-d47e71529dac"
      },
      "execution_count": 28,
      "outputs": [
        {
          "output_type": "stream",
          "name": "stdout",
          "text": [
            "(62,)\n",
            "[3.385e+00 4.800e-01 1.350e+00 4.650e+02 3.633e+01 2.766e+01 1.483e+01\n",
            " 1.040e+00 4.190e+00 4.250e-01 1.010e-01 9.200e-01 1.000e+00 5.000e-03\n",
            " 6.000e-02 3.500e+00 2.000e+00 1.700e+00 2.547e+03 2.300e-02 1.871e+02\n",
            " 5.210e+02 7.850e-01 1.000e+01 3.300e+00 2.000e-01 1.410e+00 5.290e+02\n",
            " 2.070e+02 8.500e+01 7.500e-01 6.200e+01 6.654e+03 3.500e+00 6.800e+00\n",
            " 3.500e+01 4.050e+00 1.200e-01 2.300e-02 1.000e-02 1.400e+00 2.500e+02\n",
            " 2.500e+00 5.550e+01 1.000e+02 5.216e+01 1.055e+01 5.500e-01 6.000e+01\n",
            " 3.600e+00 4.288e+00 2.800e-01 7.500e-02 1.220e-01 4.800e-02 1.920e+02\n",
            " 3.000e+00 1.600e+02 9.000e-01 1.620e+00 1.040e-01 4.235e+00]\n",
            "[3.385e+00 4.800e-01 1.350e+00 4.650e+02 3.633e+01 2.766e+01 1.483e+01\n",
            " 1.040e+00 4.190e+00 4.250e-01 1.010e-01 9.200e-01 1.000e+00 5.000e-03\n",
            " 6.000e-02 3.500e+00 2.000e+00 1.700e+00 2.547e+03 2.300e-02 1.871e+02\n",
            " 5.210e+02 7.850e-01 1.000e+01 3.300e+00 2.000e-01 1.410e+00 5.290e+02\n",
            " 2.070e+02 8.500e+01 7.500e-01 6.200e+01 6.654e+03 6.800e+00 3.500e+01\n",
            " 4.050e+00 1.200e-01 1.000e-02 1.400e+00 2.500e+02 2.500e+00 5.550e+01\n",
            " 1.000e+02 5.216e+01 1.055e+01 5.500e-01 6.000e+01 3.600e+00 4.288e+00\n",
            " 2.800e-01 7.500e-02 1.220e-01 4.800e-02 1.920e+02 3.000e+00 1.600e+02\n",
            " 9.000e-01 1.620e+00 1.040e-01 4.235e+00]\n",
            "float64\n",
            "0\n"
          ]
        }
      ]
    },
    {
      "cell_type": "code",
      "source": [
        "print(df.Body.shape)\n",
        "print(df.Body.values)\n",
        "print(df.Body.unique())\n",
        "print(df.Body.dtypes)\n",
        "print(df.Body.isnull().sum())\n",
        "df=df.drop_duplicates(subset='Body')"
      ],
      "metadata": {
        "colab": {
          "base_uri": "https://localhost:8080/"
        },
        "id": "7BFUGQrQIWKN",
        "outputId": "cccf3fec-3cc1-4e70-e732-2256c693d355"
      },
      "execution_count": 29,
      "outputs": [
        {
          "output_type": "stream",
          "name": "stdout",
          "text": [
            "(60,)\n",
            "[4.450e+01 1.550e+01 8.100e+00 4.230e+02 1.195e+02 1.150e+02 9.820e+01\n",
            " 5.500e+00 5.800e+01 6.400e+00 4.000e+00 5.700e+00 6.600e+00 1.400e-01\n",
            " 1.000e+00 1.080e+01 1.230e+01 6.300e+00 4.603e+03 3.000e-01 4.190e+02\n",
            " 6.550e+02 3.500e+00 1.150e+02 2.560e+01 5.000e+00 1.750e+01 6.800e+02\n",
            " 4.060e+02 3.250e+02 1.230e+01 1.320e+03 5.712e+03 1.790e+02 5.600e+01\n",
            " 1.700e+01 1.000e+00 2.500e-01 1.250e+01 4.900e+02 1.210e+01 1.750e+02\n",
            " 1.570e+02 4.400e+02 1.795e+02 2.400e+00 8.100e+01 2.100e+01 3.920e+01\n",
            " 1.900e+00 1.200e+00 3.000e+00 3.300e-01 1.800e+02 2.500e+01 1.690e+02\n",
            " 2.600e+00 1.140e+01 2.500e+00 5.040e+01]\n",
            "[4.450e+01 1.550e+01 8.100e+00 4.230e+02 1.195e+02 1.150e+02 9.820e+01\n",
            " 5.500e+00 5.800e+01 6.400e+00 4.000e+00 5.700e+00 6.600e+00 1.400e-01\n",
            " 1.000e+00 1.080e+01 1.230e+01 6.300e+00 4.603e+03 3.000e-01 4.190e+02\n",
            " 6.550e+02 3.500e+00 2.560e+01 5.000e+00 1.750e+01 6.800e+02 4.060e+02\n",
            " 3.250e+02 1.320e+03 5.712e+03 1.790e+02 5.600e+01 1.700e+01 2.500e-01\n",
            " 1.250e+01 4.900e+02 1.210e+01 1.750e+02 1.570e+02 4.400e+02 1.795e+02\n",
            " 2.400e+00 8.100e+01 2.100e+01 3.920e+01 1.900e+00 1.200e+00 3.000e+00\n",
            " 3.300e-01 1.800e+02 2.500e+01 1.690e+02 2.600e+00 1.140e+01 2.500e+00\n",
            " 5.040e+01]\n",
            "float64\n",
            "0\n"
          ]
        }
      ]
    },
    {
      "cell_type": "code",
      "source": [
        "df.shape"
      ],
      "metadata": {
        "colab": {
          "base_uri": "https://localhost:8080/"
        },
        "id": "dxyyMMOKIaV5",
        "outputId": "ac8662ca-6971-4559-dd10-7b2b10145223"
      },
      "execution_count": 30,
      "outputs": [
        {
          "output_type": "execute_result",
          "data": {
            "text/plain": [
              "(57, 2)"
            ]
          },
          "metadata": {},
          "execution_count": 30
        }
      ]
    },
    {
      "cell_type": "code",
      "source": [
        "df.Brain.describe()"
      ],
      "metadata": {
        "colab": {
          "base_uri": "https://localhost:8080/"
        },
        "id": "bBXGiTCBGksB",
        "outputId": "2acf7c6f-cf12-45b3-bc9d-9bcc5b817763"
      },
      "execution_count": 31,
      "outputs": [
        {
          "output_type": "execute_result",
          "data": {
            "text/plain": [
              "count      57.000000\n",
              "mean      215.975193\n",
              "std       936.452092\n",
              "min         0.005000\n",
              "25%         0.785000\n",
              "50%         3.385000\n",
              "75%        55.500000\n",
              "max      6654.000000\n",
              "Name: Brain, dtype: float64"
            ]
          },
          "metadata": {},
          "execution_count": 31
        }
      ]
    },
    {
      "cell_type": "code",
      "source": [
        "Q3 = df.Brain.quantile(0.75)\n",
        "Q1 = df.Brain.quantile(0.25)\n",
        "iqr= Q3 - Q1\n",
        "upper_threshold = Q3 + (1.5*iqr)\n",
        "lower_threshold = Q1 - (1.5*iqr)\n",
        "print(upper_threshold)\n",
        "print(lower_threshold)\n"
      ],
      "metadata": {
        "colab": {
          "base_uri": "https://localhost:8080/"
        },
        "id": "1Enung81K27q",
        "outputId": "f8044d07-4ae2-4abf-a171-ac3d7c829ef7"
      },
      "execution_count": 32,
      "outputs": [
        {
          "output_type": "stream",
          "name": "stdout",
          "text": [
            "137.5725\n",
            "-81.28750000000001\n"
          ]
        }
      ]
    },
    {
      "cell_type": "code",
      "source": [
        "print(df.columns.tolist())\n",
        "['Brain', 'Body ']\n",
        "\n",
        "df.columns = df.columns.str.rstrip() \n",
        "df.columns = df.columns.str.strip()"
      ],
      "metadata": {
        "colab": {
          "base_uri": "https://localhost:8080/"
        },
        "id": "BeJcIwNuJ1uG",
        "outputId": "76b75640-cb46-4719-a1c4-ddbf92a44de2"
      },
      "execution_count": 33,
      "outputs": [
        {
          "output_type": "stream",
          "name": "stdout",
          "text": [
            "['Brain', 'Body']\n"
          ]
        }
      ]
    },
    {
      "cell_type": "code",
      "source": [
        "df.Brain.describe()"
      ],
      "metadata": {
        "colab": {
          "base_uri": "https://localhost:8080/"
        },
        "id": "j8Jxm0bKKHpZ",
        "outputId": "248308d3-95c3-4dbd-ad55-124b2aae4ab9"
      },
      "execution_count": 34,
      "outputs": [
        {
          "output_type": "execute_result",
          "data": {
            "text/plain": [
              "count      57.000000\n",
              "mean      215.975193\n",
              "std       936.452092\n",
              "min         0.005000\n",
              "25%         0.785000\n",
              "50%         3.385000\n",
              "75%        55.500000\n",
              "max      6654.000000\n",
              "Name: Brain, dtype: float64"
            ]
          },
          "metadata": {},
          "execution_count": 34
        }
      ]
    },
    {
      "cell_type": "code",
      "source": [
        "df[\"transformed\"]=np.square(df[\"Brain\"])\n",
        "df.plot(x='Brain', y='Body',style='o')\n",
        "plt.title(\"Brain vs Body\")\n",
        "plt.xlabel(\"Brain\")\n",
        "plt.ylabel(\"Body\")\n",
        "plt.show()\n",
        "df.corr()"
      ],
      "metadata": {
        "colab": {
          "base_uri": "https://localhost:8080/",
          "height": 421
        },
        "id": "Gu5sR_O4HEC4",
        "outputId": "bdc8963e-204f-493f-f5df-1eac474f8d9a"
      },
      "execution_count": 35,
      "outputs": [
        {
          "output_type": "display_data",
          "data": {
            "text/plain": [
              "<Figure size 432x288 with 1 Axes>"
            ],
            "image/png": "[encoded data removed]"
          },
          "metadata": {
            "needs_background": "light"
          }
        },
        {
          "output_type": "execute_result",
          "data": {
            "text/plain": [
              "                Brain      Body  transformed\n",
              "Brain        1.000000  0.934024     0.969306\n",
              "Body         0.934024  1.000000     0.835410\n",
              "transformed  0.969306  0.835410     1.000000"
            ],
            "text/html": [
              "\n",
              "  <div id=\"df-460409b4-a361-47b1-a589-bd2f677a73da\">\n",
              "    <div class=\"colab-df-container\">\n",
              "      <div>\n",
              "<style scoped>\n",
              "    .dataframe tbody tr th:only-of-type {\n",
              "        vertical-align: middle;\n",
              "    }\n",
              "\n",
              "    .dataframe tbody tr th {\n",
              "        vertical-align: top;\n",
              "    }\n",
              "\n",
              "    .dataframe thead th {\n",
              "        text-align: right;\n",
              "    }\n",
              "</style>\n",
              "<table border=\"1\" class=\"dataframe\">\n",
              "  <thead>\n",
              "    <tr style=\"text-align: right;\">\n",
              "      <th></th>\n",
              "      <th>Brain</th>\n",
              "      <th>Body</th>\n",
              "      <th>transformed</th>\n",
              "    </tr>\n",
              "  </thead>\n",
              "  <tbody>\n",
              "    <tr>\n",
              "      <th>Brain</th>\n",
              "      <td>1.000000</td>\n",
              "      <td>0.934024</td>\n",
              "      <td>0.969306</td>\n",
              "    </tr>\n",
              "    <tr>\n",
              "      <th>Body</th>\n",
              "      <td>0.934024</td>\n",
              "      <td>1.000000</td>\n",
              "      <td>0.835410</td>\n",
              "    </tr>\n",
              "    <tr>\n",
              "      <th>transformed</th>\n",
              "      <td>0.969306</td>\n",
              "      <td>0.835410</td>\n",
              "      <td>1.000000</td>\n",
              "    </tr>\n",
              "  </tbody>\n",
              "</table>\n",
              "</div>\n",
              "      <button class=\"colab-df-convert\" onclick=\"convertToInteractive('df-460409b4-a361-47b1-a589-bd2f677a73da')\"\n",
              "              title=\"Convert this dataframe to an interactive table.\"\n",
              "              style=\"display:none;\">\n",
              "        \n",
              "  <svg xmlns=\"http://www.w3.org/2000/svg\" height=\"24px\"viewBox=\"0 0 24 24\"\n",
              "       width=\"24px\">\n",
              "    <path d=\"M0 0h24v24H0V0z\" fill=\"none\"/>\n",
              "    <path d=\"M18.56 5.44l.94 2.06.94-2.06 2.06-.94-2.06-.94-.94-2.06-.94 2.06-2.06.94zm-11 1L8.5 8.5l.94-2.06 2.06-.94-2.06-.94L8.5 2.5l-.94 2.06-2.06.94zm10 10l.94 2.06.94-2.06 2.06-.94-2.06-.94-.94-2.06-.94 2.06-2.06.94z\"/><path d=\"M17.41 7.96l-1.37-1.37c-.4-.4-.92-.59-1.43-.59-.52 0-1.04.2-1.43.59L10.3 9.45l-7.72 7.72c-.78.78-.78 2.05 0 2.83L4 21.41c.39.39.9.59 1.41.59.51 0 1.02-.2 1.41-.59l7.78-7.78 2.81-2.81c.8-.78.8-2.07 0-2.86zM5.41 20L4 18.59l7.72-7.72 1.47 1.35L5.41 20z\"/>\n",
              "  </svg>\n",
              "      </button>\n",
              "      \n",
              "  <style>\n",
              "    .colab-df-container {\n",
              "      display:flex;\n",
              "      flex-wrap:wrap;\n",
              "      gap: 12px;\n",
              "    }\n",
              "\n",
              "    .colab-df-convert {\n",
              "      background-color: #E8F0FE;\n",
              "      border: none;\n",
              "      border-radius: 50%;\n",
              "      cursor: pointer;\n",
              "      display: none;\n",
              "      fill: #1967D2;\n",
              "      height: 32px;\n",
              "      padding: 0 0 0 0;\n",
              "      width: 32px;\n",
              "    }\n",
              "\n",
              "    .colab-df-convert:hover {\n",
              "      background-color: #E2EBFA;\n",
              "      box-shadow: 0px 1px 2px rgba(60, 64, 67, 0.3), 0px 1px 3px 1px rgba(60, 64, 67, 0.15);\n",
              "      fill: #174EA6;\n",
              "    }\n",
              "\n",
              "    [theme=dark] .colab-df-convert {\n",
              "      background-color: #3B4455;\n",
              "      fill: #D2E3FC;\n",
              "    }\n",
              "\n",
              "    [theme=dark] .colab-df-convert:hover {\n",
              "      background-color: #434B5C;\n",
              "      box-shadow: 0px 1px 3px 1px rgba(0, 0, 0, 0.15);\n",
              "      filter: drop-shadow(0px 1px 2px rgba(0, 0, 0, 0.3));\n",
              "      fill: #FFFFFF;\n",
              "    }\n",
              "  </style>\n",
              "\n",
              "      <script>\n",
              "        const buttonEl =\n",
              "          document.querySelector('#df-460409b4-a361-47b1-a589-bd2f677a73da button.colab-df-convert');\n",
              "        buttonEl.style.display =\n",
              "          google.colab.kernel.accessAllowed ? 'block' : 'none';\n",
              "\n",
              "        async function convertToInteractive(key) {\n",
              "          const element = document.querySelector('#df-460409b4-a361-47b1-a589-bd2f677a73da');\n",
              "          const dataTable =\n",
              "            await google.colab.kernel.invokeFunction('convertToInteractive',\n",
              "                                                     [key], {});\n",
              "          if (!dataTable) return;\n",
              "\n",
              "          const docLinkHtml = 'Like what you see? Visit the ' +\n",
              "            '<a target=\"_blank\" href=https://colab.research.google.com/notebooks/data_table.ipynb>data table notebook</a>'\n",
              "            + ' to learn more about interactive tables.';\n",
              "          element.innerHTML = '';\n",
              "          dataTable['output_type'] = 'display_data';\n",
              "          await google.colab.output.renderOutput(dataTable, element);\n",
              "          const docLink = document.createElement('div');\n",
              "          docLink.innerHTML = docLinkHtml;\n",
              "          element.appendChild(docLink);\n",
              "        }\n",
              "      </script>\n",
              "    </div>\n",
              "  </div>\n",
              "  "
            ]
          },
          "metadata": {},
          "execution_count": 35
        }
      ]
    },
    {
      "cell_type": "markdown",
      "source": [
        "**Preparing**"
      ],
      "metadata": {
        "id": "a7cVk02xPjre"
      }
    },
    {
      "cell_type": "code",
      "source": [
        "X = df.loc[:,['Brain']].values\n",
        "y = df.loc[:, 'Body'].values \n",
        "\n",
        "from sklearn.model_selection import train_test_split\n",
        "X_train, X_test, y_train, y_test = train_test_split(X, y, test_size = 0.2)"
      ],
      "metadata": {
        "id": "SsnLNMroOnzN"
      },
      "execution_count": 36,
      "outputs": []
    },
    {
      "cell_type": "code",
      "source": [
        "y_test"
      ],
      "metadata": {
        "colab": {
          "base_uri": "https://localhost:8080/"
        },
        "id": "r6EPEdNHOq-H",
        "outputId": "2f7b0af9-66b2-4992-a071-c537430947ad"
      },
      "execution_count": 37,
      "outputs": [
        {
          "output_type": "execute_result",
          "data": {
            "text/plain": [
              "array([4.060e+02, 6.550e+02, 8.100e+01, 4.603e+03, 1.150e+02, 1.140e+01,\n",
              "       6.300e+00, 6.400e+00, 1.000e+00, 4.900e+02, 4.230e+02, 1.195e+02])"
            ]
          },
          "metadata": {},
          "execution_count": 37
        }
      ]
    },
    {
      "cell_type": "code",
      "source": [
        "X_train.shape, X_test.shape"
      ],
      "metadata": {
        "colab": {
          "base_uri": "https://localhost:8080/"
        },
        "id": "aAfBmtIlOvY0",
        "outputId": "1b2d501c-813b-465f-a126-452d4e055641"
      },
      "execution_count": 38,
      "outputs": [
        {
          "output_type": "execute_result",
          "data": {
            "text/plain": [
              "((45, 1), (12, 1))"
            ]
          },
          "metadata": {},
          "execution_count": 38
        }
      ]
    },
    {
      "cell_type": "markdown",
      "source": [
        "**Modelling**"
      ],
      "metadata": {
        "id": "TTg-Vs3uPdyM"
      }
    },
    {
      "cell_type": "code",
      "source": [
        "from sklearn.linear_model import LinearRegression\n",
        "regressor= LinearRegression()\n",
        "\n",
        "regressor.fit(X_train, y_train)"
      ],
      "metadata": {
        "colab": {
          "base_uri": "https://localhost:8080/"
        },
        "id": "SEZwvbquOx2o",
        "outputId": "f3331291-1651-4f08-876d-7b15160859c2"
      },
      "execution_count": 39,
      "outputs": [
        {
          "output_type": "execute_result",
          "data": {
            "text/plain": [
              "LinearRegression()"
            ]
          },
          "metadata": {},
          "execution_count": 39
        }
      ]
    },
    {
      "cell_type": "code",
      "source": [
        "print(regressor.intercept_)"
      ],
      "metadata": {
        "colab": {
          "base_uri": "https://localhost:8080/"
        },
        "id": "3ysknftsO0sT",
        "outputId": "4e4e46f1-18d5-4e3f-e0ec-f2c04ee73ebd"
      },
      "execution_count": 40,
      "outputs": [
        {
          "output_type": "stream",
          "name": "stdout",
          "text": [
            "78.46548285201368\n"
          ]
        }
      ]
    },
    {
      "cell_type": "code",
      "source": [
        "print(regressor.coef_)"
      ],
      "metadata": {
        "colab": {
          "base_uri": "https://localhost:8080/"
        },
        "id": "khIpuXLEPAtN",
        "outputId": "a1947054-df6c-4b85-d274-9eed495257e9"
      },
      "execution_count": 41,
      "outputs": [
        {
          "output_type": "stream",
          "name": "stdout",
          "text": [
            "[0.85113526]\n"
          ]
        }
      ]
    },
    {
      "cell_type": "code",
      "source": [
        "y_pred = regressor.predict(X_test)\n",
        "print(y_pred)"
      ],
      "metadata": {
        "colab": {
          "base_uri": "https://localhost:8080/"
        },
        "id": "WlKuVjWdPC5t",
        "outputId": "a90c3790-bb79-4883-fb2c-5e4c77104bd6"
      },
      "execution_count": 42,
      "outputs": [
        {
          "output_type": "stream",
          "name": "stdout",
          "text": [
            "[ 254.65048101  521.90695164  129.53359826 2246.30698191  102.00788405\n",
            "   79.84432197   79.91241279   78.82721534   78.51655097  291.24929705\n",
            "  474.24337726  109.38722673]\n"
          ]
        }
      ]
    },
    {
      "cell_type": "code",
      "source": [
        "df1 = pd.DataFrame({'Actual': y_test, 'Predicted': y_pred})\n",
        "print(df1)"
      ],
      "metadata": {
        "colab": {
          "base_uri": "https://localhost:8080/"
        },
        "id": "HNBolSPZPEpW",
        "outputId": "57483f54-9746-47c7-e178-d5bb5be62525"
      },
      "execution_count": 43,
      "outputs": [
        {
          "output_type": "stream",
          "name": "stdout",
          "text": [
            "    Actual    Predicted\n",
            "0    406.0   254.650481\n",
            "1    655.0   521.906952\n",
            "2     81.0   129.533598\n",
            "3   4603.0  2246.306982\n",
            "4    115.0   102.007884\n",
            "5     11.4    79.844322\n",
            "6      6.3    79.912413\n",
            "7      6.4    78.827215\n",
            "8      1.0    78.516551\n",
            "9    490.0   291.249297\n",
            "10   423.0   474.243377\n",
            "11   119.5   109.387227\n"
          ]
        }
      ]
    },
    {
      "cell_type": "markdown",
      "source": [
        "**Metrics**"
      ],
      "metadata": {
        "id": "8z6w37ofPY6z"
      }
    },
    {
      "cell_type": "code",
      "source": [
        "from sklearn import metrics\n",
        "print('R2 - SCORE:', metrics.r2_score(y_test, y_pred))"
      ],
      "metadata": {
        "colab": {
          "base_uri": "https://localhost:8080/"
        },
        "id": "BiKtBCeEPNXs",
        "outputId": "0ca74e7e-7a2c-4c4f-a2fc-ca2f08f3b858"
      },
      "execution_count": 44,
      "outputs": [
        {
          "output_type": "stream",
          "name": "stdout",
          "text": [
            "R2 - SCORE: 0.6897719504728894\n"
          ]
        }
      ]
    }
  ]
}